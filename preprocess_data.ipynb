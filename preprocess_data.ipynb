{
 "cells": [
  {
   "cell_type": "code",
   "execution_count": null,
   "metadata": {},
   "outputs": [],
   "source": [
    "import pandas as pd\n"
   ]
  },
  {
   "cell_type": "code",
   "execution_count": null,
   "metadata": {},
   "outputs": [],
   "source": [
    "\n",
    "\n",
    "basic = pd.read_csv('name.basics.tsv', sep='\\t')\n",
    "\n",
    "\n",
    "ratings = pd.read_csv('title.ratings.tsv', sep='\\t')\n",
    "\n",
    "genre=pd.read_csv('title.crew.tsv', sep='\\t')\n",
    "\n",
    "title_basic=pd.read_csv('title.basics.tsv', sep='\\t')\n",
    "\n",
    "\n",
    "principal=pd.read_csv('title.principals.tsv', sep='\\t')"
   ]
  },
  {
   "cell_type": "code",
   "execution_count": null,
   "metadata": {},
   "outputs": [],
   "source": [
    "df_basic = basic.rename(columns={'nconst': 'directors'})\n",
    "\n",
    "# Facciamo il merge dei due DataFrame\n",
    "new_df = pd.merge(genre, df_basic, on='directors')\n",
    "\n",
    "# Rimuoviamo le colonne 'birthYear', 'deathYear', 'writers', 'primaryProfession' dal DataFrame\n",
    "new_df = new_df.drop(columns=['birthYear', 'deathYear', 'writers', 'primaryProfession'])\n",
    "\n",
    "new_df = pd.merge(new_df, ratings, on='tconst')\n",
    "\n",
    "new_df = pd.merge(new_df, title_basic, on='tconst')\n",
    "new_df = new_df.drop(columns=['titleType', 'originalTitle', 'isAdult','knownForTitles','endYear','runtimeMinutes'])\n",
    "\n",
    "\n",
    "# Creiamo una lista con le categorie di interesse\n",
    "categories_of_interest = ['actor', 'actress']\n",
    "\n",
    "# Filtriamo il DataFrame\n",
    "principal = principal[principal['category'].isin(categories_of_interest)]\n",
    "principal = principal.rename(columns={'nconst': 'actors'})\n",
    "new_df = pd.merge(new_df, principal, on='tconst')\n",
    "new_df=new_df.drop(columns=['ordering','job','characters','category'])\n",
    "\n",
    "\n",
    "other_columns = [col for col in new_df.columns if col != 'actors']\n",
    "\n",
    "# Raggruppa per tutte le altre colonne e unisci gli 'actors' con una virgola\n",
    "df= new_df.groupby(other_columns)['actors'].agg(', '.join).reset_index()\n",
    "\n",
    "# Creare un dizionario che mappa i codici unici agli attori\n",
    "actor_dict = dict(zip(basic['nconst'], basic['primaryName']))\n",
    "\n",
    "# Creare una nuova colonna 'actor_names' in df mappando i codici agli attori\n",
    "df['actor_names'] = df['actors'].apply(lambda x: ','.join(actor_dict.get(i, '') for i in x.split(', ')))\n",
    "\n",
    "df.to_csv('preprocessed_data.csv', index=False)"
   ]
  }
 ],
 "metadata": {
  "language_info": {
   "name": "python"
  }
 },
 "nbformat": 4,
 "nbformat_minor": 2
}
